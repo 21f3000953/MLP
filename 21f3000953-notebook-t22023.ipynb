{
 "cells": [
  {
   "cell_type": "code",
   "execution_count": 1,
   "id": "81237538",
   "metadata": {
    "_cell_guid": "b1076dfc-b9ad-4769-8c92-a6c4dae69d19",
    "_uuid": "8f2839f25d086af736a60e9eeb907d3b93b6e0e5",
    "execution": {
     "iopub.execute_input": "2025-04-30T11:01:03.493375Z",
     "iopub.status.busy": "2025-04-30T11:01:03.492523Z",
     "iopub.status.idle": "2025-04-30T11:01:06.565014Z",
     "shell.execute_reply": "2025-04-30T11:01:06.563865Z"
    },
    "papermill": {
     "duration": 3.093421,
     "end_time": "2025-04-30T11:01:06.567507",
     "exception": false,
     "start_time": "2025-04-30T11:01:03.474086",
     "status": "completed"
    },
    "tags": []
   },
   "outputs": [],
   "source": [
    "import numpy as np # linear algebra\n",
    "import pandas as pd # data processing, CSV file I/O (e.g. pd.read_csv)\n",
    "test = pd.read_csv('/kaggle/input/sentiment-prediction-on-movie-reviews-term-break1/test.csv (1)/test.csv')\n",
    "train = pd.read_csv('/kaggle/input/sentiment-prediction-on-movie-reviews-term-break1/train.csv (1)/train.csv')\n",
    "sample = pd.read_csv('/kaggle/input/sentiment-prediction-on-movie-reviews-term-break1/sample (1).csv')\n",
    "movie = pd.read_csv('/kaggle/input/sentiment-prediction-on-movie-reviews-term-break1/movies.csv (1)/movies.csv')"
   ]
  },
  {
   "cell_type": "markdown",
   "id": "d112d66e",
   "metadata": {
    "papermill": {
     "duration": 0.010542,
     "end_time": "2025-04-30T11:01:06.589300",
     "exception": false,
     "start_time": "2025-04-30T11:01:06.578758",
     "status": "completed"
    },
    "tags": []
   },
   "source": [
    "<font size='5'>importing libraries"
   ]
  },
  {
   "cell_type": "code",
   "execution_count": 2,
   "id": "a71d8316",
   "metadata": {
    "execution": {
     "iopub.execute_input": "2025-04-30T11:01:06.612904Z",
     "iopub.status.busy": "2025-04-30T11:01:06.612169Z",
     "iopub.status.idle": "2025-04-30T11:01:08.824253Z",
     "shell.execute_reply": "2025-04-30T11:01:08.823431Z"
    },
    "papermill": {
     "duration": 2.226405,
     "end_time": "2025-04-30T11:01:08.826538",
     "exception": false,
     "start_time": "2025-04-30T11:01:06.600133",
     "status": "completed"
    },
    "tags": []
   },
   "outputs": [],
   "source": [
    "import numpy as np\n",
    "from pprint import pprint\n",
    "np.random.seed(42)\n",
    "from sklearn.preprocessing import MinMaxScaler\n",
    "from sklearn.pipeline import make_pipeline\n",
    "from sklearn.preprocessing import StandardScaler\n",
    "from sklearn.dummy import DummyClassifier\n",
    "from sklearn.model_selection import cross_validate,RandomizedSearchCV,cross_val_predict\n",
    "from sklearn.preprocessing import OneHotEncoder\n",
    "from sklearn.linear_model import SGDClassifier, RidgeClassifier,LogisticRegression\n",
    "from sklearn.metrics import log_loss\n",
    "from sklearn.metrics import ConfusionMatrixDisplay\n",
    "from sklearn.metrics import precision_score, recall_score, classification_report\n",
    "from sklearn.metrics import precision_recall_curve\n",
    "from sklearn.preprocessing import OrdinalEncoder\n",
    "from sklearn.preprocessing import LabelEncoder\n",
    "import matplotlib as mpl\n",
    "import matplotlib.pyplot as plt\n",
    "import seaborn as sns"
   ]
  },
  {
   "cell_type": "code",
   "execution_count": 3,
   "id": "9007f818",
   "metadata": {
    "execution": {
     "iopub.execute_input": "2025-04-30T11:01:08.850020Z",
     "iopub.status.busy": "2025-04-30T11:01:08.849622Z",
     "iopub.status.idle": "2025-04-30T11:01:09.080007Z",
     "shell.execute_reply": "2025-04-30T11:01:09.079065Z"
    },
    "papermill": {
     "duration": 0.244159,
     "end_time": "2025-04-30T11:01:09.082017",
     "exception": false,
     "start_time": "2025-04-30T11:01:08.837858",
     "status": "completed"
    },
    "tags": []
   },
   "outputs": [
    {
     "data": {
      "text/html": [
       "<div>\n",
       "<style scoped>\n",
       "    .dataframe tbody tr th:only-of-type {\n",
       "        vertical-align: middle;\n",
       "    }\n",
       "\n",
       "    .dataframe tbody tr th {\n",
       "        vertical-align: top;\n",
       "    }\n",
       "\n",
       "    .dataframe thead th {\n",
       "        text-align: right;\n",
       "    }\n",
       "</style>\n",
       "<table border=\"1\" class=\"dataframe\">\n",
       "  <thead>\n",
       "    <tr style=\"text-align: right;\">\n",
       "      <th></th>\n",
       "      <th>movieid</th>\n",
       "      <th>reviewerName</th>\n",
       "      <th>isFrequentReviewer</th>\n",
       "      <th>reviewText</th>\n",
       "      <th>sentiment</th>\n",
       "    </tr>\n",
       "  </thead>\n",
       "  <tbody>\n",
       "    <tr>\n",
       "      <th>count</th>\n",
       "      <td>162758</td>\n",
       "      <td>162758</td>\n",
       "      <td>162758</td>\n",
       "      <td>156311</td>\n",
       "      <td>162758</td>\n",
       "    </tr>\n",
       "    <tr>\n",
       "      <th>unique</th>\n",
       "      <td>16812</td>\n",
       "      <td>4482</td>\n",
       "      <td>2</td>\n",
       "      <td>155071</td>\n",
       "      <td>2</td>\n",
       "    </tr>\n",
       "    <tr>\n",
       "      <th>top</th>\n",
       "      <td>escape_the_terminator_tyler_durden_astonish</td>\n",
       "      <td>Sherri Morrison</td>\n",
       "      <td>False</td>\n",
       "      <td>Parental Content Review</td>\n",
       "      <td>POSITIVE</td>\n",
       "    </tr>\n",
       "    <tr>\n",
       "      <th>freq</th>\n",
       "      <td>708</td>\n",
       "      <td>962</td>\n",
       "      <td>113189</td>\n",
       "      <td>29</td>\n",
       "      <td>108761</td>\n",
       "    </tr>\n",
       "  </tbody>\n",
       "</table>\n",
       "</div>"
      ],
      "text/plain": [
       "                                            movieid     reviewerName  \\\n",
       "count                                        162758           162758   \n",
       "unique                                        16812             4482   \n",
       "top     escape_the_terminator_tyler_durden_astonish  Sherri Morrison   \n",
       "freq                                            708              962   \n",
       "\n",
       "       isFrequentReviewer               reviewText sentiment  \n",
       "count              162758                   156311    162758  \n",
       "unique                  2                   155071         2  \n",
       "top                 False  Parental Content Review  POSITIVE  \n",
       "freq               113189                       29    108761  "
      ]
     },
     "execution_count": 3,
     "metadata": {},
     "output_type": "execute_result"
    }
   ],
   "source": [
    "train.describe()"
   ]
  },
  {
   "cell_type": "code",
   "execution_count": 4,
   "id": "0199640e",
   "metadata": {
    "execution": {
     "iopub.execute_input": "2025-04-30T11:01:09.105202Z",
     "iopub.status.busy": "2025-04-30T11:01:09.104858Z",
     "iopub.status.idle": "2025-04-30T11:01:09.232335Z",
     "shell.execute_reply": "2025-04-30T11:01:09.231213Z"
    },
    "papermill": {
     "duration": 0.141224,
     "end_time": "2025-04-30T11:01:09.234205",
     "exception": false,
     "start_time": "2025-04-30T11:01:09.092981",
     "status": "completed"
    },
    "tags": []
   },
   "outputs": [
    {
     "name": "stdout",
     "output_type": "stream",
     "text": [
      "<class 'pandas.core.frame.DataFrame'>\n",
      "RangeIndex: 143258 entries, 0 to 143257\n",
      "Data columns (total 14 columns):\n",
      " #   Column                Non-Null Count   Dtype  \n",
      "---  ------                --------------   -----  \n",
      " 0   movieid               143258 non-null  object \n",
      " 1   title                 143258 non-null  object \n",
      " 2   audienceScore         73248 non-null   float64\n",
      " 3   rating                13991 non-null   object \n",
      " 4   ratingContents        13991 non-null   object \n",
      " 5   releaseDateTheaters   30773 non-null   object \n",
      " 6   releaseDateStreaming  79420 non-null   object \n",
      " 7   runtimeMinutes        129431 non-null  float64\n",
      " 8   genre                 132175 non-null  object \n",
      " 9   originalLanguage      129400 non-null  object \n",
      " 10  director              143258 non-null  object \n",
      " 11  boxOffice             14743 non-null   object \n",
      " 12  distributor           23001 non-null   object \n",
      " 13  soundType             15917 non-null   object \n",
      "dtypes: float64(2), object(12)\n",
      "memory usage: 15.3+ MB\n"
     ]
    },
    {
     "data": {
      "text/html": [
       "<div>\n",
       "<style scoped>\n",
       "    .dataframe tbody tr th:only-of-type {\n",
       "        vertical-align: middle;\n",
       "    }\n",
       "\n",
       "    .dataframe tbody tr th {\n",
       "        vertical-align: top;\n",
       "    }\n",
       "\n",
       "    .dataframe thead th {\n",
       "        text-align: right;\n",
       "    }\n",
       "</style>\n",
       "<table border=\"1\" class=\"dataframe\">\n",
       "  <thead>\n",
       "    <tr style=\"text-align: right;\">\n",
       "      <th></th>\n",
       "      <th>audienceScore</th>\n",
       "      <th>runtimeMinutes</th>\n",
       "    </tr>\n",
       "  </thead>\n",
       "  <tbody>\n",
       "    <tr>\n",
       "      <th>count</th>\n",
       "      <td>73248.000000</td>\n",
       "      <td>129431.000000</td>\n",
       "    </tr>\n",
       "    <tr>\n",
       "      <th>mean</th>\n",
       "      <td>55.674967</td>\n",
       "      <td>93.708578</td>\n",
       "    </tr>\n",
       "    <tr>\n",
       "      <th>std</th>\n",
       "      <td>24.553648</td>\n",
       "      <td>28.129175</td>\n",
       "    </tr>\n",
       "    <tr>\n",
       "      <th>min</th>\n",
       "      <td>0.000000</td>\n",
       "      <td>1.000000</td>\n",
       "    </tr>\n",
       "    <tr>\n",
       "      <th>25%</th>\n",
       "      <td>37.000000</td>\n",
       "      <td>84.000000</td>\n",
       "    </tr>\n",
       "    <tr>\n",
       "      <th>50%</th>\n",
       "      <td>57.000000</td>\n",
       "      <td>92.000000</td>\n",
       "    </tr>\n",
       "    <tr>\n",
       "      <th>75%</th>\n",
       "      <td>76.000000</td>\n",
       "      <td>103.000000</td>\n",
       "    </tr>\n",
       "    <tr>\n",
       "      <th>max</th>\n",
       "      <td>100.000000</td>\n",
       "      <td>2700.000000</td>\n",
       "    </tr>\n",
       "  </tbody>\n",
       "</table>\n",
       "</div>"
      ],
      "text/plain": [
       "       audienceScore  runtimeMinutes\n",
       "count   73248.000000   129431.000000\n",
       "mean       55.674967       93.708578\n",
       "std        24.553648       28.129175\n",
       "min         0.000000        1.000000\n",
       "25%        37.000000       84.000000\n",
       "50%        57.000000       92.000000\n",
       "75%        76.000000      103.000000\n",
       "max       100.000000     2700.000000"
      ]
     },
     "execution_count": 4,
     "metadata": {},
     "output_type": "execute_result"
    }
   ],
   "source": [
    "movie.info()\n",
    "movie.describe()"
   ]
  },
  {
   "cell_type": "code",
   "execution_count": 5,
   "id": "d4ea77d7",
   "metadata": {
    "execution": {
     "iopub.execute_input": "2025-04-30T11:01:09.258514Z",
     "iopub.status.busy": "2025-04-30T11:01:09.258155Z",
     "iopub.status.idle": "2025-04-30T11:01:09.486860Z",
     "shell.execute_reply": "2025-04-30T11:01:09.485805Z"
    },
    "papermill": {
     "duration": 0.243595,
     "end_time": "2025-04-30T11:01:09.489193",
     "exception": false,
     "start_time": "2025-04-30T11:01:09.245598",
     "status": "completed"
    },
    "tags": []
   },
   "outputs": [],
   "source": [
    "movie=movie.drop_duplicates(subset=\"movieid\")\n",
    "merge=pd.merge(train,movie,on=\"movieid\",how=\"left\")"
   ]
  },
  {
   "cell_type": "code",
   "execution_count": 6,
   "id": "5de8443a",
   "metadata": {
    "execution": {
     "iopub.execute_input": "2025-04-30T11:01:09.513660Z",
     "iopub.status.busy": "2025-04-30T11:01:09.512833Z",
     "iopub.status.idle": "2025-04-30T11:01:09.609135Z",
     "shell.execute_reply": "2025-04-30T11:01:09.608110Z"
    },
    "papermill": {
     "duration": 0.110788,
     "end_time": "2025-04-30T11:01:09.611408",
     "exception": false,
     "start_time": "2025-04-30T11:01:09.500620",
     "status": "completed"
    },
    "tags": []
   },
   "outputs": [],
   "source": [
    "merge1=pd.merge(test,movie,on=\"movieid\",how=\"left\")"
   ]
  },
  {
   "cell_type": "markdown",
   "id": "955be233",
   "metadata": {
    "papermill": {
     "duration": 0.010983,
     "end_time": "2025-04-30T11:01:09.633885",
     "exception": false,
     "start_time": "2025-04-30T11:01:09.622902",
     "status": "completed"
    },
    "tags": []
   },
   "source": [
    "<font size='5'>checking for the null values"
   ]
  },
  {
   "cell_type": "code",
   "execution_count": 7,
   "id": "2eac5558",
   "metadata": {
    "execution": {
     "iopub.execute_input": "2025-04-30T11:01:09.658294Z",
     "iopub.status.busy": "2025-04-30T11:01:09.657376Z",
     "iopub.status.idle": "2025-04-30T11:01:09.780717Z",
     "shell.execute_reply": "2025-04-30T11:01:09.779782Z"
    },
    "papermill": {
     "duration": 0.137356,
     "end_time": "2025-04-30T11:01:09.782542",
     "exception": false,
     "start_time": "2025-04-30T11:01:09.645186",
     "status": "completed"
    },
    "tags": []
   },
   "outputs": [
    {
     "data": {
      "text/plain": [
       "movieid                     0\n",
       "reviewerName                0\n",
       "isFrequentReviewer          0\n",
       "reviewText               6447\n",
       "sentiment                   0\n",
       "title                       0\n",
       "audienceScore           13248\n",
       "rating                  63724\n",
       "ratingContents          63724\n",
       "releaseDateTheaters     35834\n",
       "releaseDateStreaming    16185\n",
       "runtimeMinutes           3376\n",
       "genre                    2438\n",
       "originalLanguage         3290\n",
       "director                    0\n",
       "boxOffice               52776\n",
       "distributor             40663\n",
       "soundType               85367\n",
       "dtype: int64"
      ]
     },
     "execution_count": 7,
     "metadata": {},
     "output_type": "execute_result"
    }
   ],
   "source": [
    "merge.isnull().sum()"
   ]
  },
  {
   "cell_type": "markdown",
   "id": "4fd582b2",
   "metadata": {
    "papermill": {
     "duration": 0.011247,
     "end_time": "2025-04-30T11:01:09.805289",
     "exception": false,
     "start_time": "2025-04-30T11:01:09.794042",
     "status": "completed"
    },
    "tags": []
   },
   "source": [
    "<font size='5'>frequency of sentiment"
   ]
  },
  {
   "cell_type": "code",
   "execution_count": 8,
   "id": "fa53e424",
   "metadata": {
    "execution": {
     "iopub.execute_input": "2025-04-30T11:01:09.829434Z",
     "iopub.status.busy": "2025-04-30T11:01:09.828834Z",
     "iopub.status.idle": "2025-04-30T11:01:10.108009Z",
     "shell.execute_reply": "2025-04-30T11:01:10.107047Z"
    },
    "papermill": {
     "duration": 0.293699,
     "end_time": "2025-04-30T11:01:10.110141",
     "exception": false,
     "start_time": "2025-04-30T11:01:09.816442",
     "status": "completed"
    },
    "tags": []
   },
   "outputs": [
    {
     "data": {
      "image/png": "[encoded data removed]",
      "text/plain": [
       "<Figure size 640x480 with 1 Axes>"
      ]
     },
     "metadata": {},
     "output_type": "display_data"
    }
   ],
   "source": [
    "sns.countplot(x='sentiment', data= train)  # Visualize the distribution of the target variable\n",
    "plt.show()"
   ]
  },
  {
   "cell_type": "markdown",
   "id": "538c8417",
   "metadata": {
    "papermill": {
     "duration": 0.061694,
     "end_time": "2025-04-30T11:01:10.183311",
     "exception": false,
     "start_time": "2025-04-30T11:01:10.121617",
     "status": "completed"
    },
    "tags": []
   },
   "source": [
    "**we can see that frequency of positive sentiment is more than that of negative sentiment**"
   ]
  },
  {
   "cell_type": "markdown",
   "id": "0786a52b",
   "metadata": {
    "papermill": {
     "duration": 0.011468,
     "end_time": "2025-04-30T11:01:10.206535",
     "exception": false,
     "start_time": "2025-04-30T11:01:10.195067",
     "status": "completed"
    },
    "tags": []
   },
   "source": [
    "<font size='5'>mean audience score by reviewer frequency"
   ]
  },
  {
   "cell_type": "code",
   "execution_count": 9,
   "id": "ae09fe87",
   "metadata": {
    "execution": {
     "iopub.execute_input": "2025-04-30T11:01:10.232394Z",
     "iopub.status.busy": "2025-04-30T11:01:10.231535Z",
     "iopub.status.idle": "2025-04-30T11:01:10.476913Z",
     "shell.execute_reply": "2025-04-30T11:01:10.475968Z"
    },
    "papermill": {
     "duration": 0.260249,
     "end_time": "2025-04-30T11:01:10.478913",
     "exception": false,
     "start_time": "2025-04-30T11:01:10.218664",
     "status": "completed"
    },
    "tags": []
   },
   "outputs": [
    {
     "data": {
      "image/png": "[encoded data removed]",
      "text/plain": [
       "<Figure size 640x480 with 1 Axes>"
      ]
     },
     "metadata": {},
     "output_type": "display_data"
    }
   ],
   "source": [
    "mean_scores = merge.groupby('isFrequentReviewer')['audienceScore'].mean()\n",
    "plt.bar(mean_scores.index, mean_scores.values, color=['blue', 'green'],width=0.4)\n",
    "plt.title('Mean Audience Score by Reviewer Frequency')\n",
    "plt.xlabel('Is Frequent Reviewer')\n",
    "plt.ylabel('Mean Audience Score')\n",
    "plt.show()"
   ]
  },
  {
   "cell_type": "markdown",
   "id": "ded5f3f5",
   "metadata": {
    "papermill": {
     "duration": 0.011922,
     "end_time": "2025-04-30T11:01:10.503359",
     "exception": false,
     "start_time": "2025-04-30T11:01:10.491437",
     "status": "completed"
    },
    "tags": []
   },
   "source": [
    "**we grouped the isfrequentreviewer and found the mean of audience score**"
   ]
  },
  {
   "cell_type": "markdown",
   "id": "f02cc261",
   "metadata": {
    "papermill": {
     "duration": 0.011773,
     "end_time": "2025-04-30T11:01:10.527168",
     "exception": false,
     "start_time": "2025-04-30T11:01:10.515395",
     "status": "completed"
    },
    "tags": []
   },
   "source": [
    "<font size='5'>mean audience score by sentiment"
   ]
  },
  {
   "cell_type": "code",
   "execution_count": 10,
   "id": "7025b027",
   "metadata": {
    "execution": {
     "iopub.execute_input": "2025-04-30T11:01:10.553551Z",
     "iopub.status.busy": "2025-04-30T11:01:10.552694Z",
     "iopub.status.idle": "2025-04-30T11:01:10.743407Z",
     "shell.execute_reply": "2025-04-30T11:01:10.742453Z"
    },
    "papermill": {
     "duration": 0.206217,
     "end_time": "2025-04-30T11:01:10.745551",
     "exception": false,
     "start_time": "2025-04-30T11:01:10.539334",
     "status": "completed"
    },
    "tags": []
   },
   "outputs": [
    {
     "data": {
      "image/png": "[encoded data removed]",
      "text/plain": [
       "<Figure size 640x480 with 1 Axes>"
      ]
     },
     "metadata": {},
     "output_type": "display_data"
    }
   ],
   "source": [
    "mean_scores = merge.groupby('sentiment')['audienceScore'].mean()\n",
    "plt.barh(mean_scores.index, mean_scores.values, color=['Red', 'Green'],height=0.3)\n",
    "plt.title('Mean Audience Score by Sentiment')\n",
    "plt.ylabel('Sentiment')\n",
    "plt.xlabel('Mean Audience Score')\n",
    "plt.show()"
   ]
  },
  {
   "cell_type": "markdown",
   "id": "0f141bd4",
   "metadata": {
    "papermill": {
     "duration": 0.012064,
     "end_time": "2025-04-30T11:01:10.770060",
     "exception": false,
     "start_time": "2025-04-30T11:01:10.757996",
     "status": "completed"
    },
    "tags": []
   },
   "source": [
    "**we grouped the sentiment and calculated the mean audiencescore**"
   ]
  },
  {
   "cell_type": "markdown",
   "id": "8a25d72f",
   "metadata": {
    "papermill": {
     "duration": 0.012051,
     "end_time": "2025-04-30T11:01:10.794249",
     "exception": false,
     "start_time": "2025-04-30T11:01:10.782198",
     "status": "completed"
    },
    "tags": []
   },
   "source": [
    "<font size='5'>mean runtime by sentiment"
   ]
  },
  {
   "cell_type": "code",
   "execution_count": 11,
   "id": "0cb049aa",
   "metadata": {
    "execution": {
     "iopub.execute_input": "2025-04-30T11:01:10.820641Z",
     "iopub.status.busy": "2025-04-30T11:01:10.820278Z",
     "iopub.status.idle": "2025-04-30T11:01:10.998515Z",
     "shell.execute_reply": "2025-04-30T11:01:10.997539Z"
    },
    "papermill": {
     "duration": 0.194069,
     "end_time": "2025-04-30T11:01:11.000807",
     "exception": false,
     "start_time": "2025-04-30T11:01:10.806738",
     "status": "completed"
    },
    "tags": []
   },
   "outputs": [
    {
     "data": {
      "image/png": "[encoded data removed]",
      "text/plain": [
       "<Figure size 640x480 with 1 Axes>"
      ]
     },
     "metadata": {},
     "output_type": "display_data"
    }
   ],
   "source": [
    "mean_scores = merge.groupby('sentiment')['runtimeMinutes'].mean()\n",
    "plt.barh(mean_scores.index, mean_scores.values, color=['Red', 'Green'],height=0.3)\n",
    "plt.title('Mean runtimeMinutes')\n",
    "plt.ylabel('Sentiment')\n",
    "plt.xlabel('Mean runtimeMinutes')\n",
    "plt.show()"
   ]
  },
  {
   "cell_type": "markdown",
   "id": "ac631b9f",
   "metadata": {
    "papermill": {
     "duration": 0.012531,
     "end_time": "2025-04-30T11:01:11.026277",
     "exception": false,
     "start_time": "2025-04-30T11:01:11.013746",
     "status": "completed"
    },
    "tags": []
   },
   "source": [
    "**we grouped the sentiment and calculated the mean of runtime minutes**"
   ]
  },
  {
   "cell_type": "markdown",
   "id": "7aff2c87",
   "metadata": {
    "papermill": {
     "duration": 0.012435,
     "end_time": "2025-04-30T11:01:11.051417",
     "exception": false,
     "start_time": "2025-04-30T11:01:11.038982",
     "status": "completed"
    },
    "tags": []
   },
   "source": [
    "<font size='4'>heatmap\n",
    "to find correlation between audience score, runtime, is frequent reviewer and sentiment"
   ]
  },
  {
   "cell_type": "code",
   "execution_count": 12,
   "id": "7532d819",
   "metadata": {
    "execution": {
     "iopub.execute_input": "2025-04-30T11:01:11.077982Z",
     "iopub.status.busy": "2025-04-30T11:01:11.077591Z",
     "iopub.status.idle": "2025-04-30T11:01:11.083889Z",
     "shell.execute_reply": "2025-04-30T11:01:11.082946Z"
    },
    "papermill": {
     "duration": 0.021736,
     "end_time": "2025-04-30T11:01:11.085719",
     "exception": false,
     "start_time": "2025-04-30T11:01:11.063983",
     "status": "completed"
    },
    "tags": []
   },
   "outputs": [
    {
     "data": {
      "text/plain": [
       "'import seaborn as sns\\nfrom sklearn.preprocessing import LabelEncoder\\nfeature_columns =list(merge.columns)\\ntarget_variable = \\'sentiment\\'\\nle=LabelEncoder()\\nmerge[\"sentiment\"]=le.fit_transform(merge[\"sentiment\"])\\ncorrelations = merge[feature_columns].corr(method=\\'pearson\\')\\nplt.figure(figsize=(5,5))\\nsns.heatmap(correlations, annot=True, cmap=\\'coolwarm\\')\\nplt.title(\\'Correlation between features and target variable\\')\\nplt.show()'"
      ]
     },
     "execution_count": 12,
     "metadata": {},
     "output_type": "execute_result"
    }
   ],
   "source": [
    "'''import seaborn as sns\n",
    "from sklearn.preprocessing import LabelEncoder\n",
    "feature_columns =list(merge.columns)\n",
    "target_variable = 'sentiment'\n",
    "le=LabelEncoder()\n",
    "merge[\"sentiment\"]=le.fit_transform(merge[\"sentiment\"])\n",
    "correlations = merge[feature_columns].corr(method='pearson')\n",
    "plt.figure(figsize=(5,5))\n",
    "sns.heatmap(correlations, annot=True, cmap='coolwarm')\n",
    "plt.title('Correlation between features and target variable')\n",
    "plt.show()'''"
   ]
  },
  {
   "attachments": {
    "7b2cb268-679e-4e93-9528-ad5e7606ce56.png": {
     "image/png": "[encoded data removed]"
    }
   },
   "cell_type": "markdown",
   "id": "3ce414fd",
   "metadata": {
    "papermill": {
     "duration": 0.01259,
     "end_time": "2025-04-30T11:01:11.111175",
     "exception": false,
     "start_time": "2025-04-30T11:01:11.098585",
     "status": "completed"
    },
    "tags": []
   },
   "source": [
    "![image.png](attachment:7b2cb268-679e-4e93-9528-ad5e7606ce56.png)"
   ]
  },
  {
   "cell_type": "markdown",
   "id": "d77821af",
   "metadata": {
    "papermill": {
     "duration": 0.012527,
     "end_time": "2025-04-30T11:01:11.136585",
     "exception": false,
     "start_time": "2025-04-30T11:01:11.124058",
     "status": "completed"
    },
    "tags": []
   },
   "source": [
    "**we can see that sentiment has moderately strong correlation with audience score and weak correlation with runtime minutes and negative correlation with isfrequentReviewer**"
   ]
  },
  {
   "cell_type": "markdown",
   "id": "8dae6b65",
   "metadata": {
    "papermill": {
     "duration": 0.012416,
     "end_time": "2025-04-30T11:01:11.161712",
     "exception": false,
     "start_time": "2025-04-30T11:01:11.149296",
     "status": "completed"
    },
    "tags": []
   },
   "source": [
    "<font size=\"6\">boxplot to find outlier</font>"
   ]
  },
  {
   "cell_type": "code",
   "execution_count": 13,
   "id": "8ce1301f",
   "metadata": {
    "execution": {
     "iopub.execute_input": "2025-04-30T11:01:11.189183Z",
     "iopub.status.busy": "2025-04-30T11:01:11.188815Z",
     "iopub.status.idle": "2025-04-30T11:01:11.885800Z",
     "shell.execute_reply": "2025-04-30T11:01:11.884715Z"
    },
    "papermill": {
     "duration": 0.712804,
     "end_time": "2025-04-30T11:01:11.887811",
     "exception": false,
     "start_time": "2025-04-30T11:01:11.175007",
     "status": "completed"
    },
    "tags": []
   },
   "outputs": [
    {
     "data": {
      "image/png": "[encoded data removed]",
      "text/plain": [
       "<Figure size 2000x2000 with 2 Axes>"
      ]
     },
     "metadata": {},
     "output_type": "display_data"
    }
   ],
   "source": [
    "fig, axes = plt.subplots(nrows=5, ncols=4, figsize=(20, 20))\n",
    "numeric_features = ['audienceScore','runtimeMinutes']\n",
    "for i, feature in enumerate(numeric_features):\n",
    "    sns.boxplot(x=merge[feature], ax=axes[i//4, i%4])\n",
    "    axes[i//4, i%4].set_title(f\"Boxplot of {feature}\")\n",
    "\n",
    "if i < 19:\n",
    "    for j in range(i+1, 20):\n",
    "        fig.delaxes(axes[j//4, j%4])\n",
    "plt.tight_layout()\n",
    "\n",
    "# Show the plot\n",
    "plt.show()"
   ]
  },
  {
   "cell_type": "markdown",
   "id": "75deaefc",
   "metadata": {
    "papermill": {
     "duration": 0.01284,
     "end_time": "2025-04-30T11:01:11.914011",
     "exception": false,
     "start_time": "2025-04-30T11:01:11.901171",
     "status": "completed"
    },
    "tags": []
   },
   "source": [
    "**we can see that audience score doesn't have much outliers but run time minutes has many outliers.** "
   ]
  },
  {
   "cell_type": "markdown",
   "id": "d3c25189",
   "metadata": {
    "papermill": {
     "duration": 0.012804,
     "end_time": "2025-04-30T11:01:11.939867",
     "exception": false,
     "start_time": "2025-04-30T11:01:11.927063",
     "status": "completed"
    },
    "tags": []
   },
   "source": [
    "<font size='5'>taking only review text, audience score, runtime"
   ]
  },
  {
   "cell_type": "code",
   "execution_count": 14,
   "id": "f09bc257",
   "metadata": {
    "execution": {
     "iopub.execute_input": "2025-04-30T11:01:11.968117Z",
     "iopub.status.busy": "2025-04-30T11:01:11.967309Z",
     "iopub.status.idle": "2025-04-30T11:01:11.977792Z",
     "shell.execute_reply": "2025-04-30T11:01:11.976800Z"
    },
    "papermill": {
     "duration": 0.026561,
     "end_time": "2025-04-30T11:01:11.979618",
     "exception": false,
     "start_time": "2025-04-30T11:01:11.953057",
     "status": "completed"
    },
    "tags": []
   },
   "outputs": [],
   "source": [
    "train_data= merge[['reviewText', 'audienceScore','runtimeMinutes']]  # Select columns 'A' and 'C'\n",
    "train_data=pd.DataFrame(train_data,columns=['reviewText', 'audienceScore','runtimeMinutes'])"
   ]
  },
  {
   "cell_type": "markdown",
   "id": "8ba768c2",
   "metadata": {
    "papermill": {
     "duration": 0.012949,
     "end_time": "2025-04-30T11:01:12.005723",
     "exception": false,
     "start_time": "2025-04-30T11:01:11.992774",
     "status": "completed"
    },
    "tags": []
   },
   "source": [
    "**we took 3 columns from merge and converted them into dataframe**"
   ]
  },
  {
   "cell_type": "markdown",
   "id": "c6ddba40",
   "metadata": {
    "papermill": {
     "duration": 0.013019,
     "end_time": "2025-04-30T11:01:12.031850",
     "exception": false,
     "start_time": "2025-04-30T11:01:12.018831",
     "status": "completed"
    },
    "tags": []
   },
   "source": [
    "<font size='5'>filling the missing review with empty string"
   ]
  },
  {
   "cell_type": "code",
   "execution_count": 15,
   "id": "ee338728",
   "metadata": {
    "execution": {
     "iopub.execute_input": "2025-04-30T11:01:12.060183Z",
     "iopub.status.busy": "2025-04-30T11:01:12.059329Z",
     "iopub.status.idle": "2025-04-30T11:01:12.084771Z",
     "shell.execute_reply": "2025-04-30T11:01:12.083972Z"
    },
    "papermill": {
     "duration": 0.041866,
     "end_time": "2025-04-30T11:01:12.086929",
     "exception": false,
     "start_time": "2025-04-30T11:01:12.045063",
     "status": "completed"
    },
    "tags": []
   },
   "outputs": [],
   "source": [
    "train_data[\"reviewText\"]=train_data[\"reviewText\"].fillna(\"\")"
   ]
  },
  {
   "cell_type": "markdown",
   "id": "ec73acd3",
   "metadata": {
    "papermill": {
     "duration": 0.012963,
     "end_time": "2025-04-30T11:01:12.113695",
     "exception": false,
     "start_time": "2025-04-30T11:01:12.100732",
     "status": "completed"
    },
    "tags": []
   },
   "source": [
    "<font size='5'>column transformer"
   ]
  },
  {
   "cell_type": "code",
   "execution_count": 16,
   "id": "d5cf2f08",
   "metadata": {
    "execution": {
     "iopub.execute_input": "2025-04-30T11:01:12.141757Z",
     "iopub.status.busy": "2025-04-30T11:01:12.141111Z",
     "iopub.status.idle": "2025-04-30T11:01:12.308810Z",
     "shell.execute_reply": "2025-04-30T11:01:12.307900Z"
    },
    "papermill": {
     "duration": 0.184441,
     "end_time": "2025-04-30T11:01:12.311218",
     "exception": false,
     "start_time": "2025-04-30T11:01:12.126777",
     "status": "completed"
    },
    "tags": []
   },
   "outputs": [],
   "source": [
    "from sklearn.compose import ColumnTransformer\n",
    "from sklearn.pipeline import Pipeline\n",
    "from sklearn.preprocessing import MinMaxScaler\n",
    "from sklearn.impute import SimpleImputer, KNNImputer\n",
    "from sklearn.preprocessing import OneHotEncoder, StandardScaler\n",
    "from sklearn.linear_model import LinearRegression, SGDRegressor\n",
    "from sklearn.feature_extraction.text import TfidfVectorizer, CountVectorizer\n",
    "from sklearn.preprocessing import StandardScaler\n",
    "numeric_features=['audienceScore','runtimeMinutes']\n",
    "cat_features='reviewText'\n",
    "\n",
    "numeric_transformer = Pipeline(steps=[\n",
    "    ('imputer', SimpleImputer(strategy=\"mean\")),\n",
    "    ('scalar',StandardScaler())\n",
    "])\n",
    "\n",
    "categorical_transformer = Pipeline(steps=[\n",
    "    (\"countvectorizer\", CountVectorizer())\n",
    "])\n",
    "\n",
    "\n",
    "# Use ColumnTransformer to apply the different preprocessing steps to the appropriate columns\n",
    "preprocessor = ColumnTransformer(\n",
    "      transformers=[\n",
    "           ('cat', categorical_transformer, cat_features),\n",
    "           ('num', numeric_transformer, numeric_features),\n",
    "      ])"
   ]
  },
  {
   "cell_type": "markdown",
   "id": "67be1641",
   "metadata": {
    "papermill": {
     "duration": 0.012931,
     "end_time": "2025-04-30T11:01:12.337780",
     "exception": false,
     "start_time": "2025-04-30T11:01:12.324849",
     "status": "completed"
    },
    "tags": []
   },
   "source": [
    "**we used simple imputer to fill the missing values using strategy mean and used standard scaler for scaling**"
   ]
  },
  {
   "cell_type": "code",
   "execution_count": 17,
   "id": "d4db5b1d",
   "metadata": {
    "execution": {
     "iopub.execute_input": "2025-04-30T11:01:12.366012Z",
     "iopub.status.busy": "2025-04-30T11:01:12.365255Z",
     "iopub.status.idle": "2025-04-30T11:01:12.369793Z",
     "shell.execute_reply": "2025-04-30T11:01:12.368853Z"
    },
    "papermill": {
     "duration": 0.020597,
     "end_time": "2025-04-30T11:01:12.371650",
     "exception": false,
     "start_time": "2025-04-30T11:01:12.351053",
     "status": "completed"
    },
    "tags": []
   },
   "outputs": [],
   "source": [
    "y = merge['sentiment']"
   ]
  },
  {
   "cell_type": "markdown",
   "id": "3d22ddc3",
   "metadata": {
    "papermill": {
     "duration": 0.013267,
     "end_time": "2025-04-30T11:01:12.399526",
     "exception": false,
     "start_time": "2025-04-30T11:01:12.386259",
     "status": "completed"
    },
    "tags": []
   },
   "source": [
    "**we took the sentiment column from merge and stored it in y**"
   ]
  },
  {
   "cell_type": "code",
   "execution_count": 18,
   "id": "04fbead7",
   "metadata": {
    "execution": {
     "iopub.execute_input": "2025-04-30T11:01:12.428128Z",
     "iopub.status.busy": "2025-04-30T11:01:12.427280Z",
     "iopub.status.idle": "2025-04-30T11:01:16.038249Z",
     "shell.execute_reply": "2025-04-30T11:01:16.037315Z"
    },
    "papermill": {
     "duration": 3.627766,
     "end_time": "2025-04-30T11:01:16.040698",
     "exception": false,
     "start_time": "2025-04-30T11:01:12.412932",
     "status": "completed"
    },
    "tags": []
   },
   "outputs": [],
   "source": [
    "X = preprocessor.fit_transform(train_data)"
   ]
  },
  {
   "cell_type": "markdown",
   "id": "5e64e0f6",
   "metadata": {
    "papermill": {
     "duration": 0.012817,
     "end_time": "2025-04-30T11:01:16.066970",
     "exception": false,
     "start_time": "2025-04-30T11:01:16.054153",
     "status": "completed"
    },
    "tags": []
   },
   "source": [
    "<font size='5'>logistic regression"
   ]
  },
  {
   "cell_type": "code",
   "execution_count": 19,
   "id": "a1aa63a5",
   "metadata": {
    "execution": {
     "iopub.execute_input": "2025-04-30T11:01:16.094621Z",
     "iopub.status.busy": "2025-04-30T11:01:16.094249Z",
     "iopub.status.idle": "2025-04-30T11:01:25.687656Z",
     "shell.execute_reply": "2025-04-30T11:01:25.683162Z"
    },
    "papermill": {
     "duration": 9.612927,
     "end_time": "2025-04-30T11:01:25.693007",
     "exception": false,
     "start_time": "2025-04-30T11:01:16.080080",
     "status": "completed"
    },
    "tags": []
   },
   "outputs": [
    {
     "name": "stderr",
     "output_type": "stream",
     "text": [
      "/opt/conda/lib/python3.10/site-packages/sklearn/linear_model/_logistic.py:458: ConvergenceWarning: lbfgs failed to converge (status=1):\n",
      "STOP: TOTAL NO. of ITERATIONS REACHED LIMIT.\n",
      "\n",
      "Increase the number of iterations (max_iter) or scale the data as shown in:\n",
      "    https://scikit-learn.org/stable/modules/preprocessing.html\n",
      "Please also refer to the documentation for alternative solver options:\n",
      "    https://scikit-learn.org/stable/modules/linear_model.html#logistic-regression\n",
      "  n_iter_i = _check_optimize_result(\n"
     ]
    }
   ],
   "source": [
    "from sklearn.linear_model import LogisticRegression\n",
    "lr=LogisticRegression()\n",
    "model=lr.fit(X,y)"
   ]
  },
  {
   "cell_type": "markdown",
   "id": "8cf4ef23",
   "metadata": {
    "papermill": {
     "duration": 0.028482,
     "end_time": "2025-04-30T11:01:25.772401",
     "exception": false,
     "start_time": "2025-04-30T11:01:25.743919",
     "status": "completed"
    },
    "tags": []
   },
   "source": [
    "**prediction**"
   ]
  },
  {
   "cell_type": "code",
   "execution_count": 20,
   "id": "b149c959",
   "metadata": {
    "execution": {
     "iopub.execute_input": "2025-04-30T11:01:25.806244Z",
     "iopub.status.busy": "2025-04-30T11:01:25.805879Z",
     "iopub.status.idle": "2025-04-30T11:01:34.096278Z",
     "shell.execute_reply": "2025-04-30T11:01:34.095034Z"
    },
    "papermill": {
     "duration": 8.306827,
     "end_time": "2025-04-30T11:01:34.098408",
     "exception": false,
     "start_time": "2025-04-30T11:01:25.791581",
     "status": "completed"
    },
    "tags": []
   },
   "outputs": [
    {
     "name": "stdout",
     "output_type": "stream",
     "text": [
      "              precision    recall  f1-score   support\n",
      "\n",
      "    NEGATIVE       0.82      0.74      0.78     53997\n",
      "    POSITIVE       0.88      0.92      0.90    108761\n",
      "\n",
      "    accuracy                           0.86    162758\n",
      "   macro avg       0.85      0.83      0.84    162758\n",
      "weighted avg       0.86      0.86      0.86    162758\n",
      "\n"
     ]
    }
   ],
   "source": [
    "y_pred=model.predict(X)\n",
    "print(classification_report(y ,y_pred))"
   ]
  },
  {
   "cell_type": "markdown",
   "id": "2c7366f0",
   "metadata": {
    "papermill": {
     "duration": 0.012861,
     "end_time": "2025-04-30T11:01:34.124522",
     "exception": false,
     "start_time": "2025-04-30T11:01:34.111661",
     "status": "completed"
    },
    "tags": []
   },
   "source": [
    "<font size='5'>MLP Classifier"
   ]
  },
  {
   "cell_type": "code",
   "execution_count": 21,
   "id": "ac618b67",
   "metadata": {
    "execution": {
     "iopub.execute_input": "2025-04-30T11:01:34.152159Z",
     "iopub.status.busy": "2025-04-30T11:01:34.151808Z",
     "iopub.status.idle": "2025-04-30T11:01:34.157830Z",
     "shell.execute_reply": "2025-04-30T11:01:34.156841Z"
    },
    "papermill": {
     "duration": 0.02189,
     "end_time": "2025-04-30T11:01:34.159605",
     "exception": false,
     "start_time": "2025-04-30T11:01:34.137715",
     "status": "completed"
    },
    "tags": []
   },
   "outputs": [
    {
     "data": {
      "text/plain": [
       "'from sklearn.neural_network import MLPClassifier\\n\\n# Create model object\\nclf = MLPClassifier(hidden_layer_sizes=(6,5),\\n                    random_state=5,\\n                    verbose=True,\\n                    learning_rate_init=0.01,\\n                    tol=0.01)\\n\\n# Fit data onto the model\\nclf.fit(X,y)'"
      ]
     },
     "execution_count": 21,
     "metadata": {},
     "output_type": "execute_result"
    }
   ],
   "source": [
    "'''from sklearn.neural_network import MLPClassifier\n",
    "\n",
    "# Create model object\n",
    "clf = MLPClassifier(hidden_layer_sizes=(6,5),\n",
    "                    random_state=5,\n",
    "                    verbose=True,\n",
    "                    learning_rate_init=0.01,\n",
    "                    tol=0.01)\n",
    "\n",
    "# Fit data onto the model\n",
    "clf.fit(X,y)'''"
   ]
  },
  {
   "cell_type": "code",
   "execution_count": 22,
   "id": "39b02c0e",
   "metadata": {
    "execution": {
     "iopub.execute_input": "2025-04-30T11:01:34.188017Z",
     "iopub.status.busy": "2025-04-30T11:01:34.187626Z",
     "iopub.status.idle": "2025-04-30T11:01:34.193427Z",
     "shell.execute_reply": "2025-04-30T11:01:34.192506Z"
    },
    "papermill": {
     "duration": 0.022307,
     "end_time": "2025-04-30T11:01:34.195378",
     "exception": false,
     "start_time": "2025-04-30T11:01:34.173071",
     "status": "completed"
    },
    "tags": []
   },
   "outputs": [
    {
     "data": {
      "text/plain": [
       "'y_pred=clf.predict(X)\\nprint(classification_report(y ,y_pred))'"
      ]
     },
     "execution_count": 22,
     "metadata": {},
     "output_type": "execute_result"
    }
   ],
   "source": [
    "'''y_pred=clf.predict(X)\n",
    "print(classification_report(y ,y_pred))'''"
   ]
  },
  {
   "cell_type": "markdown",
   "id": "729ca805",
   "metadata": {
    "papermill": {
     "duration": 0.01336,
     "end_time": "2025-04-30T11:01:34.222318",
     "exception": false,
     "start_time": "2025-04-30T11:01:34.208958",
     "status": "completed"
    },
    "tags": []
   },
   "source": [
    "<font size='5'>Gradient Boosting Classifier"
   ]
  },
  {
   "cell_type": "code",
   "execution_count": 23,
   "id": "146bde72",
   "metadata": {
    "execution": {
     "iopub.execute_input": "2025-04-30T11:01:34.250241Z",
     "iopub.status.busy": "2025-04-30T11:01:34.249871Z",
     "iopub.status.idle": "2025-04-30T11:01:34.253929Z",
     "shell.execute_reply": "2025-04-30T11:01:34.252930Z"
    },
    "papermill": {
     "duration": 0.020263,
     "end_time": "2025-04-30T11:01:34.255850",
     "exception": false,
     "start_time": "2025-04-30T11:01:34.235587",
     "status": "completed"
    },
    "tags": []
   },
   "outputs": [],
   "source": [
    "#from sklearn.ensemble import GradientBoostingClassifier as gbc\n",
    "#model=gbc()\n",
    "\n",
    "#model.fit(X,y)"
   ]
  },
  {
   "cell_type": "code",
   "execution_count": 24,
   "id": "b1e94370",
   "metadata": {
    "execution": {
     "iopub.execute_input": "2025-04-30T11:01:34.284556Z",
     "iopub.status.busy": "2025-04-30T11:01:34.283921Z",
     "iopub.status.idle": "2025-04-30T11:01:34.287862Z",
     "shell.execute_reply": "2025-04-30T11:01:34.286936Z"
    },
    "papermill": {
     "duration": 0.020536,
     "end_time": "2025-04-30T11:01:34.289775",
     "exception": false,
     "start_time": "2025-04-30T11:01:34.269239",
     "status": "completed"
    },
    "tags": []
   },
   "outputs": [],
   "source": [
    "#y_pred=model.predict(X)\n",
    "#print(classification_report(y ,y_pred))"
   ]
  },
  {
   "cell_type": "code",
   "execution_count": 25,
   "id": "91d15b18",
   "metadata": {
    "execution": {
     "iopub.execute_input": "2025-04-30T11:01:34.318372Z",
     "iopub.status.busy": "2025-04-30T11:01:34.317999Z",
     "iopub.status.idle": "2025-04-30T11:01:34.325346Z",
     "shell.execute_reply": "2025-04-30T11:01:34.324532Z"
    },
    "papermill": {
     "duration": 0.023864,
     "end_time": "2025-04-30T11:01:34.327205",
     "exception": false,
     "start_time": "2025-04-30T11:01:34.303341",
     "status": "completed"
    },
    "tags": []
   },
   "outputs": [],
   "source": [
    "test_data= merge1[['reviewText', 'audienceScore','runtimeMinutes']]  # Select columns 'A' and 'C'\n",
    "test_data=pd.DataFrame(test_data,columns=['reviewText', 'audienceScore','runtimeMinutes'])"
   ]
  },
  {
   "cell_type": "markdown",
   "id": "3c2f8910",
   "metadata": {
    "papermill": {
     "duration": 0.013119,
     "end_time": "2025-04-30T11:01:34.353841",
     "exception": false,
     "start_time": "2025-04-30T11:01:34.340722",
     "status": "completed"
    },
    "tags": []
   },
   "source": [
    "**took the 3 columns from merge1 and then converted them to dataframe**"
   ]
  },
  {
   "cell_type": "code",
   "execution_count": 26,
   "id": "847314e4",
   "metadata": {
    "execution": {
     "iopub.execute_input": "2025-04-30T11:01:34.382237Z",
     "iopub.status.busy": "2025-04-30T11:01:34.381881Z",
     "iopub.status.idle": "2025-04-30T11:01:35.500492Z",
     "shell.execute_reply": "2025-04-30T11:01:35.499632Z"
    },
    "papermill": {
     "duration": 1.135742,
     "end_time": "2025-04-30T11:01:35.502900",
     "exception": false,
     "start_time": "2025-04-30T11:01:34.367158",
     "status": "completed"
    },
    "tags": []
   },
   "outputs": [],
   "source": [
    "test_data['reviewText'] = test_data['reviewText'].fillna(' ')\n",
    "test_pre = preprocessor.transform(test_data)"
   ]
  },
  {
   "cell_type": "code",
   "execution_count": 27,
   "id": "b8213773",
   "metadata": {
    "execution": {
     "iopub.execute_input": "2025-04-30T11:01:35.532085Z",
     "iopub.status.busy": "2025-04-30T11:01:35.531320Z",
     "iopub.status.idle": "2025-04-30T11:01:35.539898Z",
     "shell.execute_reply": "2025-04-30T11:01:35.539142Z"
    },
    "papermill": {
     "duration": 0.025208,
     "end_time": "2025-04-30T11:01:35.541901",
     "exception": false,
     "start_time": "2025-04-30T11:01:35.516693",
     "status": "completed"
    },
    "tags": []
   },
   "outputs": [],
   "source": [
    "prediction = model.predict(test_pre)"
   ]
  },
  {
   "cell_type": "code",
   "execution_count": 28,
   "id": "90c82332",
   "metadata": {
    "execution": {
     "iopub.execute_input": "2025-04-30T11:01:35.570766Z",
     "iopub.status.busy": "2025-04-30T11:01:35.570064Z",
     "iopub.status.idle": "2025-04-30T11:01:35.585528Z",
     "shell.execute_reply": "2025-04-30T11:01:35.584537Z"
    },
    "papermill": {
     "duration": 0.032148,
     "end_time": "2025-04-30T11:01:35.587651",
     "exception": false,
     "start_time": "2025-04-30T11:01:35.555503",
     "status": "completed"
    },
    "tags": []
   },
   "outputs": [],
   "source": [
    "# Apply label encoding to the target variable\n",
    "label_encoder = LabelEncoder()\n",
    "y_encoded = label_encoder.fit_transform(prediction)"
   ]
  },
  {
   "cell_type": "markdown",
   "id": "08e6e759",
   "metadata": {
    "papermill": {
     "duration": 0.013457,
     "end_time": "2025-04-30T11:01:35.614873",
     "exception": false,
     "start_time": "2025-04-30T11:01:35.601416",
     "status": "completed"
    },
    "tags": []
   },
   "source": [
    "**used label encoding to convert positive and negative values to 0 and 1**"
   ]
  },
  {
   "cell_type": "code",
   "execution_count": 29,
   "id": "8a05b3e2",
   "metadata": {
    "execution": {
     "iopub.execute_input": "2025-04-30T11:01:35.644015Z",
     "iopub.status.busy": "2025-04-30T11:01:35.643107Z",
     "iopub.status.idle": "2025-04-30T11:01:35.649314Z",
     "shell.execute_reply": "2025-04-30T11:01:35.648362Z"
    },
    "papermill": {
     "duration": 0.022858,
     "end_time": "2025-04-30T11:01:35.651421",
     "exception": false,
     "start_time": "2025-04-30T11:01:35.628563",
     "status": "completed"
    },
    "tags": []
   },
   "outputs": [],
   "source": [
    "y_pred = label_encoder.inverse_transform(y_encoded)"
   ]
  },
  {
   "cell_type": "markdown",
   "id": "f62c5464",
   "metadata": {
    "papermill": {
     "duration": 0.013278,
     "end_time": "2025-04-30T11:01:35.678386",
     "exception": false,
     "start_time": "2025-04-30T11:01:35.665108",
     "status": "completed"
    },
    "tags": []
   },
   "source": [
    "**we again converted them back to positive and negative values**"
   ]
  },
  {
   "cell_type": "code",
   "execution_count": 30,
   "id": "39dc1eb8",
   "metadata": {
    "execution": {
     "iopub.execute_input": "2025-04-30T11:01:35.707005Z",
     "iopub.status.busy": "2025-04-30T11:01:35.706295Z",
     "iopub.status.idle": "2025-04-30T11:01:35.711981Z",
     "shell.execute_reply": "2025-04-30T11:01:35.711089Z"
    },
    "papermill": {
     "duration": 0.02195,
     "end_time": "2025-04-30T11:01:35.713889",
     "exception": false,
     "start_time": "2025-04-30T11:01:35.691939",
     "status": "completed"
    },
    "tags": []
   },
   "outputs": [
    {
     "data": {
      "text/plain": [
       "(55315,)"
      ]
     },
     "execution_count": 30,
     "metadata": {},
     "output_type": "execute_result"
    }
   ],
   "source": [
    "y_pred.shape"
   ]
  },
  {
   "cell_type": "code",
   "execution_count": 31,
   "id": "ce8c0b95",
   "metadata": {
    "execution": {
     "iopub.execute_input": "2025-04-30T11:01:35.742106Z",
     "iopub.status.busy": "2025-04-30T11:01:35.741734Z",
     "iopub.status.idle": "2025-04-30T11:01:35.823613Z",
     "shell.execute_reply": "2025-04-30T11:01:35.822826Z"
    },
    "papermill": {
     "duration": 0.098634,
     "end_time": "2025-04-30T11:01:35.825906",
     "exception": false,
     "start_time": "2025-04-30T11:01:35.727272",
     "status": "completed"
    },
    "tags": []
   },
   "outputs": [],
   "source": [
    "# Create the output DataFrame and save it as a CSV file\n",
    "output_data = pd.DataFrame({'id': range(len(y_pred)), 'sentiment': y_pred})\n",
    "output_data.to_csv('submission.csv', index=False)"
   ]
  },
  {
   "cell_type": "code",
   "execution_count": 32,
   "id": "2d0e1b72",
   "metadata": {
    "execution": {
     "iopub.execute_input": "2025-04-30T11:01:35.855069Z",
     "iopub.status.busy": "2025-04-30T11:01:35.854234Z",
     "iopub.status.idle": "2025-04-30T11:01:35.858463Z",
     "shell.execute_reply": "2025-04-30T11:01:35.857555Z"
    },
    "papermill": {
     "duration": 0.020672,
     "end_time": "2025-04-30T11:01:35.860302",
     "exception": false,
     "start_time": "2025-04-30T11:01:35.839630",
     "status": "completed"
    },
    "tags": []
   },
   "outputs": [],
   "source": [
    "#submission_df.head()"
   ]
  },
  {
   "cell_type": "markdown",
   "id": "73f1420b",
   "metadata": {
    "papermill": {
     "duration": 0.01328,
     "end_time": "2025-04-30T11:01:35.887159",
     "exception": false,
     "start_time": "2025-04-30T11:01:35.873879",
     "status": "completed"
    },
    "tags": []
   },
   "source": [
    "<font size='4'> conclusion-we can see that even though the accuracy of MLPClassifier is more our best model is logistic regression since MLPClassifier was overfitting the model"
   ]
  }
 ],
 "metadata": {
  "kaggle": {
   "accelerator": "none",
   "dataSources": [
    {
     "databundleVersionId": 6504305,
     "sourceId": 60273,
     "sourceType": "competition"
    }
   ],
   "dockerImageVersionId": 30558,
   "isGpuEnabled": false,
   "isInternetEnabled": true,
   "language": "python",
   "sourceType": "notebook"
  },
  "kernelspec": {
   "display_name": "Python 3",
   "language": "python",
   "name": "python3"
  },
  "language_info": {
   "codemirror_mode": {
    "name": "ipython",
    "version": 3
   },
   "file_extension": ".py",
   "mimetype": "text/x-python",
   "name": "python",
   "nbconvert_exporter": "python",
   "pygments_lexer": "ipython3",
   "version": "3.10.12"
  },
  "papermill": {
   "default_parameters": {},
   "duration": 36.968536,
   "end_time": "2025-04-30T11:01:36.520024",
   "environment_variables": {},
   "exception": null,
   "input_path": "__notebook__.ipynb",
   "output_path": "__notebook__.ipynb",
   "parameters": {},
   "start_time": "2025-04-30T11:00:59.551488",
   "version": "2.4.0"
  }
 },
 "nbformat": 4,
 "nbformat_minor": 5
}
